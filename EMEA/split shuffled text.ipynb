{
 "cells": [
  {
   "cell_type": "code",
   "execution_count": 1,
   "metadata": {
    "collapsed": false
   },
   "outputs": [],
   "source": [
    "import io\n",
    "import codecs\n",
    "import re\n",
    "#from itertools import izip"
   ]
  },
  {
   "cell_type": "code",
   "execution_count": 3,
   "metadata": {
    "collapsed": true
   },
   "outputs": [],
   "source": [
    "path = \"./\""
   ]
  },
  {
   "cell_type": "code",
   "execution_count": 18,
   "metadata": {
    "collapsed": false
   },
   "outputs": [],
   "source": [
    "counter = 0\n",
    "with open('test.de', 'w', encoding=\"utf8\") as outfile:\n",
    "    with open(path + 'de.shuf', encoding=\"utf8\") as infile:\n",
    "        for line in (infile):\n",
    "            \n",
    "            if (counter == 87000):\n",
    "                break\n",
    "                \n",
    "            counter = counter + 1\n",
    "\n",
    "            line = line.replace('\\n','')\n",
    "            if (line == \"\"):\n",
    "                line = line.replace('','Empty line')\n",
    "                #print (line)\n",
    "\n",
    "            outfile.write(line + \"\\n\")"
   ]
  },
  {
   "cell_type": "code",
   "execution_count": 19,
   "metadata": {
    "collapsed": true
   },
   "outputs": [],
   "source": [
    "infile.close()"
   ]
  },
  {
   "cell_type": "code",
   "execution_count": 20,
   "metadata": {
    "collapsed": false,
    "scrolled": true
   },
   "outputs": [],
   "source": [
    "lines = open(path + 'de.shuf', encoding=\"utf8\").readlines()\n",
    "\n",
    "open(path + 'de.shuf', 'w', encoding=\"utf8\").writelines(lines[87000:])"
   ]
  },
  {
   "cell_type": "code",
   "execution_count": null,
   "metadata": {
    "collapsed": true
   },
   "outputs": [],
   "source": []
  }
 ],
 "metadata": {
  "kernelspec": {
   "display_name": "Python 3",
   "language": "python",
   "name": "python3"
  },
  "language_info": {
   "codemirror_mode": {
    "name": "ipython",
    "version": 3
   },
   "file_extension": ".py",
   "mimetype": "text/x-python",
   "name": "python",
   "nbconvert_exporter": "python",
   "pygments_lexer": "ipython3",
   "version": "3.5.1"
  }
 },
 "nbformat": 4,
 "nbformat_minor": 2
}
